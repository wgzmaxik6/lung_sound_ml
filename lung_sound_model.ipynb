{
 "cells": [
  {
   "cell_type": "code",
   "execution_count": 73,
   "metadata": {},
   "outputs": [],
   "source": [
    "import numpy as np\n",
    "import pandas as pd\n",
    "import matplotlib.pyplot as plt\n",
    "from sklearn.ensemble import RandomForestClassifier\n",
    "from sklearn.model_selection import train_test_split\n",
    "from sklearn.preprocessing import StandardScaler\n",
    "from sklearn.linear_model import LogisticRegression\n",
    "from sklearn import svm\n",
    "from sklearn.naive_bayes import GaussianNB\n",
    "from sklearn.metrics import plot_confusion_matrix\n",
    "\n",
    "df = pd.read_csv('data.csv')\n",
    "\n",
    "# remove other status\n",
    "# df = df[df['status'].str.contains('healthy') | df['status'].str.contains('COVID-19') ].copy(deep=True)\n",
    "\n",
    "# extract features\n",
    "X = np.array(df[df.columns[-42:]])\n",
    "\n",
    "\n",
    "scaler = StandardScaler()\n",
    "scaler.fit(X)\n",
    "\n",
    "X_scaled = scaler.transform(X)\n",
    "\n",
    "# extract labels\n",
    "y = np.array(df['status'])\n",
    "y[y=='healthy'] = int(0) # not covid\n",
    "y[(y=='symptomatic') | (y=='COVID-19')] = int(1) # covid\n",
    "y = y.astype('int')\n",
    "\n",
    "X_train, X_test, Y_train, Y_test = train_test_split(X_scaled, y, test_size=0.3)"
   ]
  },
  {
   "cell_type": "code",
   "execution_count": 25,
   "metadata": {},
   "outputs": [],
   "source": [
    "# Fix imbalanced dataset\n",
    "\n",
    "import numpy as np\n",
    "import pandas as pd\n",
    "import matplotlib.pyplot as plt\n",
    "from sklearn.ensemble import RandomForestClassifier\n",
    "from sklearn.model_selection import train_test_split\n",
    "from sklearn.preprocessing import StandardScaler\n",
    "from sklearn.linear_model import LogisticRegression\n",
    "from sklearn import svm\n",
    "from sklearn.naive_bayes import GaussianNB\n",
    "from sklearn.metrics import plot_confusion_matrix\n",
    "\n",
    "df = pd.read_csv('data.csv')\n",
    "\n",
    "# remove other status\n",
    "# df = df[df['status'].str.contains('healthy') | df['status'].str.contains('COVID-19') ].copy(deep=True)\n",
    "\n",
    "from sklearn.utils import resample\n",
    "df_majority = df[df['status'].str.contains('healthy')]\n",
    "df_minority = df[df['status'].str.contains('symptomatic') | df['status'].str.contains('COVID-19')]\n",
    "\n",
    "df_majority_downsampled = resample(df_majority, \n",
    "                                   replace=False,    \n",
    "                                   n_samples= 2000)\n",
    "\n",
    "\n",
    "X = np.concatenate((np.array(df_minority[df_minority.columns[-42:]]), np.array(df_majority_downsampled[df_majority_downsampled.columns[-42:]])))\n",
    "\n",
    "scaler = StandardScaler()\n",
    "scaler.fit(X)\n",
    "X_scaled = scaler.transform(X)\n",
    "\n",
    "# extract labels\n",
    "#y = np.array(df['status'])\n",
    "y = np.concatenate((np.array(df_minority['status']), np.array(df_majority_downsampled['status'])))\n",
    "\n",
    "y[y=='healthy'] = int(0) # not covid\n",
    "y[(y=='symptomatic') | (y=='COVID-19')] = int(1) # covid\n",
    "y = y.astype('int')\n",
    "\n",
    "X_train, X_test, Y_train, Y_test = train_test_split(X_scaled, y, test_size=0.3)"
   ]
  },
  {
   "cell_type": "code",
   "execution_count": 12,
   "metadata": {},
   "outputs": [
    {
     "data": {
      "text/plain": [
       "[0.4275901545506583, 0.5724098454493417]"
      ]
     },
     "execution_count": 12,
     "metadata": {},
     "output_type": "execute_result"
    }
   ],
   "source": [
    "[np.sum(y==int(1))/y.shape[0], np.sum(y==int(0))/y.shape[0]]"
   ]
  },
  {
   "cell_type": "code",
   "execution_count": 18,
   "metadata": {},
   "outputs": [
    {
     "data": {
      "text/plain": [
       "Index(['feature1', 'feature2', 'feature3', 'feature4', 'feature5', 'feature6',\n",
       "       'feature7', 'feature8', 'feature9', 'feature10', 'feature11',\n",
       "       'feature12', 'feature13', 'feature14', 'feature15', 'feature16',\n",
       "       'feature17', 'feature18', 'feature19', 'feature20', 'feature21',\n",
       "       'feature22', 'feature23', 'feature24', 'feature25', 'feature26',\n",
       "       'feature27', 'feature28', 'feature29', 'feature30', 'feature31',\n",
       "       'feature32', 'feature33', 'feature34', 'feature35', 'feature36',\n",
       "       'feature37', 'feature38', 'feature39', 'feature40', 'feature41',\n",
       "       'feature42'],\n",
       "      dtype='object')"
      ]
     },
     "execution_count": 18,
     "metadata": {},
     "output_type": "execute_result"
    }
   ],
   "source": [
    "# define REAL feature names e.g., EEPD_1, EEPD_2, MFMC_1,\n",
    "feature_names = df.columns[-42:]\n",
    "feature_names\n",
    "# feature_names = ['EEPD_1', 'EEPD_2', ...]"
   ]
  },
  {
   "cell_type": "markdown",
   "metadata": {},
   "source": [
    "### Train a Random Forest Model"
   ]
  },
  {
   "cell_type": "code",
   "execution_count": 19,
   "metadata": {},
   "outputs": [
    {
     "name": "stdout",
     "output_type": "stream",
     "text": [
      "Random Forest accuracy: train 1.000, test 0.563\n"
     ]
    }
   ],
   "source": [
    "rfc = RandomForestClassifier(random_state=0)\n",
    "#rfc = RandomForestClassifier(n_estimators= 25, random_state=0)\n",
    "\n",
    "rfc = rfc.fit(X_train,Y_train)\n",
    "\n",
    "score_train = rfc.score(X_train,Y_train)\n",
    "score_test = rfc.score(X_test,Y_test)\n",
    "# f1 score, precision, recall\n",
    "\n",
    "print(\"Random Forest accuracy: train {:.3f}, test {:.3f}\".format(score_train, score_test))"
   ]
  },
  {
   "cell_type": "code",
   "execution_count": 15,
   "metadata": {},
   "outputs": [
    {
     "data": {
      "image/png": "[encoded data removed]",
      "text/plain": [
       "<Figure size 432x288 with 1 Axes>"
      ]
     },
     "metadata": {
      "needs_background": "light"
     },
     "output_type": "display_data"
    }
   ],
   "source": [
    "from sklearn.metrics import RocCurveDisplay\n",
    "y_pred = rfc.predict_proba(X_test)\n",
    "# plot roc curve\n",
    "rfc_disp = RocCurveDisplay.from_estimator(rfc, X_test, Y_test)\n",
    "plt.show()"
   ]
  },
  {
   "cell_type": "code",
   "execution_count": 20,
   "metadata": {},
   "outputs": [
    {
     "name": "stderr",
     "output_type": "stream",
     "text": [
      "/opt/anaconda3/envs/ml/lib/python3.8/site-packages/sklearn/utils/deprecation.py:87: FutureWarning: Function plot_confusion_matrix is deprecated; Function `plot_confusion_matrix` is deprecated in 1.0 and will be removed in 1.2. Use one of the class methods: ConfusionMatrixDisplay.from_predictions or ConfusionMatrixDisplay.from_estimator.\n",
      "  warnings.warn(msg, category=FutureWarning)\n"
     ]
    },
    {
     "data": {
      "text/plain": [
       "<sklearn.metrics._plot.confusion_matrix.ConfusionMatrixDisplay at 0x11e962f10>"
      ]
     },
     "execution_count": 20,
     "metadata": {},
     "output_type": "execute_result"
    },
    {
     "data": {
      "image/png": "[encoded data removed]",
      "text/plain": [
       "<Figure size 432x288 with 2 Axes>"
      ]
     },
     "metadata": {
      "needs_background": "light"
     },
     "output_type": "display_data"
    }
   ],
   "source": [
    "plot_confusion_matrix(rfc, X_test, Y_test) "
   ]
  },
  {
   "cell_type": "code",
   "execution_count": 7,
   "metadata": {},
   "outputs": [
    {
     "data": {
      "image/png": "[encoded data removed]",
      "text/plain": [
       "<Figure size 720x864 with 1 Axes>"
      ]
     },
     "metadata": {
      "needs_background": "light"
     },
     "output_type": "display_data"
    }
   ],
   "source": [
    "# plot feature importance\n",
    "sorted_idx = rfc.feature_importances_.argsort()\n",
    "plt.figure(figsize = (10,12))\n",
    "plt.barh(feature_names[sorted_idx], rfc.feature_importances_[sorted_idx]/max(rfc.feature_importances_))\n",
    "plt.xlabel(\"Feature Importance\")\n",
    "plt.title('Random Forest Feature Importance')\n",
    "plt.show()"
   ]
  },
  {
   "cell_type": "code",
   "execution_count": 10,
   "metadata": {},
   "outputs": [
    {
     "data": {
      "text/plain": [
       "array([0.75085714, 0.75428571, 0.74828375, 0.75057208, 0.74942792])"
      ]
     },
     "execution_count": 10,
     "metadata": {},
     "output_type": "execute_result"
    }
   ],
   "source": [
    "# cross validation\n",
    "from sklearn.model_selection import cross_val_score\n",
    "scores = cross_val_score(rfc, X_train, Y_train, cv=5)\n",
    "scores"
   ]
  },
  {
   "cell_type": "markdown",
   "metadata": {},
   "source": [
    "### Train Logistic Regression"
   ]
  },
  {
   "cell_type": "code",
   "execution_count": 46,
   "metadata": {},
   "outputs": [
    {
     "data": {
      "text/plain": [
       "\"\\nimport numpy as np\\nimport pandas as pd\\nimport matplotlib.pyplot as plt\\nfrom sklearn.linear_model import LogisticRegression\\nfrom sklearn.model_selection import train_test_split\\n\\ndf = pd.read_csv('data.csv')\\n\\n# extract features\\nX = np.array(df[df.columns[-42:]])\\n\\nscaler = StandardScaler()\\nscaler.fit(X)\\n\\nX_scaled = scaler.transform(X)\\n\\n\\n# extract labels\\ny = np.array(df['status'])\\ny[y=='healthy'] = int(0) # not covid\\ny[(y=='symptomatic') | (y=='COVID-19')] = int(1) # covid\\ny = y.astype('int')\\n\\nX_train, X_test, Y_train, Y_test = train_test_split(X_scaled, y, test_size=0.3)\\n\""
      ]
     },
     "execution_count": 46,
     "metadata": {},
     "output_type": "execute_result"
    }
   ],
   "source": [
    "\"\"\"\n",
    "import numpy as np\n",
    "import pandas as pd\n",
    "import matplotlib.pyplot as plt\n",
    "from sklearn.model_selection import train_test_split\n",
    "\n",
    "df = pd.read_csv('data.csv')\n",
    "\n",
    "# extract features\n",
    "X = np.array(df[df.columns[-42:]])\n",
    "\n",
    "scaler = StandardScaler()\n",
    "scaler.fit(X)\n",
    "\n",
    "X_scaled = scaler.transform(X)\n",
    "\n",
    "\n",
    "# extract labels\n",
    "y = np.array(df['status'])\n",
    "y[y=='healthy'] = int(0) # not covid\n",
    "y[(y=='symptomatic') | (y=='COVID-19')] = int(1) # covid\n",
    "y = y.astype('int')\n",
    "\n",
    "X_train, X_test, Y_train, Y_test = train_test_split(X_scaled, y, test_size=0.3)\n",
    "\"\"\""
   ]
  },
  {
   "cell_type": "code",
   "execution_count": 26,
   "metadata": {},
   "outputs": [
    {
     "name": "stdout",
     "output_type": "stream",
     "text": [
      "0.5803680981595092\n",
      "0.5586272640610105\n"
     ]
    }
   ],
   "source": [
    "df = LogisticRegression(solver = 'lbfgs')\n",
    "\n",
    "df.fit(X_train,Y_train) \n",
    "y_pred = df.predict(X_test) \n",
    "\n",
    "df.predict(X_train[0:10])\n",
    "predictions = df.predict(X_train)\n",
    "\n",
    "score = df.score(X_train, Y_train)\n",
    "print(score)\n",
    "\n",
    "score = df.score(X_test, Y_test)\n",
    "print(score)\n"
   ]
  },
  {
   "cell_type": "markdown",
   "metadata": {},
   "source": [
    "### Train SVM (try different kernels)"
   ]
  },
  {
   "cell_type": "code",
   "execution_count": 47,
   "metadata": {},
   "outputs": [
    {
     "data": {
      "text/plain": [
       "\"\\nimport numpy as np\\nimport pandas as pd\\nimport matplotlib.pyplot as plt\\nfrom sklearn.model_selection import train_test_split\\n\\ndf = pd.read_csv('data.csv')\\n\\n# extract features\\nX = np.array(df[df.columns[-42:]])\\n\\nscaler = StandardScaler()\\nscaler.fit(X)\\n\\nX_scaled = scaler.transform(X)\\n\\n\\n# extract labels\\ny = np.array(df['status'])\\ny[y=='healthy'] = int(0) # not covid\\ny[(y=='symptomatic') | (y=='COVID-19')] = int(1) # covid\\ny = y.astype('int')\\n\\nX_train, X_test, Y_train, Y_test = train_test_split(X_scaled, y, test_size=0.3)\\n\""
      ]
     },
     "execution_count": 47,
     "metadata": {},
     "output_type": "execute_result"
    }
   ],
   "source": [
    "\"\"\"\n",
    "import numpy as np\n",
    "import pandas as pd\n",
    "import matplotlib.pyplot as plt\n",
    "from sklearn.model_selection import train_test_split\n",
    "\n",
    "df = pd.read_csv('data.csv')\n",
    "\n",
    "# extract features\n",
    "X = np.array(df[df.columns[-42:]])\n",
    "\n",
    "scaler = StandardScaler()\n",
    "scaler.fit(X)\n",
    "\n",
    "X_scaled = scaler.transform(X)\n",
    "\n",
    "\n",
    "# extract labels\n",
    "y = np.array(df['status'])\n",
    "y[y=='healthy'] = int(0) # not covid\n",
    "y[(y=='symptomatic') | (y=='COVID-19')] = int(1) # covid\n",
    "y = y.astype('int')\n",
    "\n",
    "X_train, X_test, Y_train, Y_test = train_test_split(X_scaled, y, test_size=0.3)\n",
    "\"\"\""
   ]
  },
  {
   "cell_type": "code",
   "execution_count": 22,
   "metadata": {},
   "outputs": [],
   "source": [
    "#clf = svm.SVC(kernel='linear')\n",
    "clf = svm.SVC(kernel='rbf')\n",
    "\n",
    "clf.fit(X_train, Y_train)\n",
    "y_pred = clf.predict(X_test)\n",
    "y_pred_train = clf.predict(X_train)\n"
   ]
  },
  {
   "cell_type": "code",
   "execution_count": 23,
   "metadata": {},
   "outputs": [
    {
     "name": "stdout",
     "output_type": "stream",
     "text": [
      "Accuracy: 0.5786463298379408\n",
      "Accuracy: 0.6269938650306749\n"
     ]
    }
   ],
   "source": [
    "from sklearn import metrics\n",
    "print(\"Accuracy:\", metrics.accuracy_score(Y_test, y_pred))\n",
    "print(\"Accuracy:\", metrics.accuracy_score(Y_train, y_pred_train))"
   ]
  },
  {
   "cell_type": "markdown",
   "metadata": {},
   "source": [
    "### Train Naive Bayes"
   ]
  },
  {
   "cell_type": "code",
   "execution_count": 48,
   "metadata": {},
   "outputs": [
    {
     "data": {
      "text/plain": [
       "\"\\nimport numpy as np\\nimport pandas as pd\\nimport matplotlib.pyplot as plt\\nfrom sklearn.model_selection import train_test_split\\n\\ndf = pd.read_csv('data.csv')\\n\\n# extract features\\nX = np.array(df[df.columns[-42:]])\\n\\n# extract labels\\ny = np.array(df['status'])\\ny[y=='healthy'] = int(0) # not covid\\ny[(y=='symptomatic') | (y=='COVID-19')] = int(1) # covid\\ny = y.astype('int')\\n\\nX_train, X_test, Y_train, Y_test = train_test_split(X, y, test_size=0.3)\\n\""
      ]
     },
     "execution_count": 48,
     "metadata": {},
     "output_type": "execute_result"
    }
   ],
   "source": [
    "\"\"\"\n",
    "import numpy as np\n",
    "import pandas as pd\n",
    "import matplotlib.pyplot as plt\n",
    "from sklearn.model_selection import train_test_split\n",
    "\n",
    "df = pd.read_csv('data.csv')\n",
    "\n",
    "# extract features\n",
    "X = np.array(df[df.columns[-42:]])\n",
    "\n",
    "# extract labels\n",
    "y = np.array(df['status'])\n",
    "y[y=='healthy'] = int(0) # not covid\n",
    "y[(y=='symptomatic') | (y=='COVID-19')] = int(1) # covid\n",
    "y = y.astype('int')\n",
    "\n",
    "X_train, X_test, Y_train, Y_test = train_test_split(X, y, test_size=0.3)\n",
    "\"\"\""
   ]
  },
  {
   "cell_type": "code",
   "execution_count": 21,
   "metadata": {},
   "outputs": [
    {
     "name": "stdout",
     "output_type": "stream",
     "text": [
      "Naive Bayes score:  0.5366053169734152\n",
      "Naive Bayes score:  0.5424213536701621\n"
     ]
    }
   ],
   "source": [
    "nb = GaussianNB()\n",
    "nb.fit(X_train, Y_train)\n",
    "print(\"Naive Bayes score: \",nb.score(X_train, Y_train))\n",
    "print(\"Naive Bayes score: \",nb.score(X_test, Y_test))"
   ]
  },
  {
   "cell_type": "code",
   "execution_count": null,
   "metadata": {},
   "outputs": [],
   "source": []
  }
 ],
 "metadata": {
  "kernelspec": {
   "display_name": "Python 3.9.7 ('base')",
   "language": "python",
   "name": "python3"
  },
  "language_info": {
   "codemirror_mode": {
    "name": "ipython",
    "version": 3
   },
   "file_extension": ".py",
   "mimetype": "text/x-python",
   "name": "python",
   "nbconvert_exporter": "python",
   "pygments_lexer": "ipython3",
   "version": "3.9.7"
  },
  "orig_nbformat": 4,
  "vscode": {
   "interpreter": {
    "hash": "5dfae695991f40f7f711b859ebe4404a578ce2940a1c2f7058c1cb98bd497b2c"
   }
  }
 },
 "nbformat": 4,
 "nbformat_minor": 2
}
